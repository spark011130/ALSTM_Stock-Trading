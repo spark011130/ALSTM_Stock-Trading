{
 "cells": [
  {
   "cell_type": "markdown",
   "metadata": {},
   "source": [
    "## ALSTM\n",
    "\n",
    "\n",
    "Attention-based LSTM 모델로 비트코인 가격 예측을 해보자."
   ]
  },
  {
   "cell_type": "markdown",
   "metadata": {},
   "source": [
    "## EXPERIMENTS"
   ]
  },
  {
   "cell_type": "markdown",
   "metadata": {},
   "source": [
    "### 데이터셋\n",
    "\n",
    "정규화 (백분위수화, 랭킹화) 되지 않은 비트코인 가격과 거래량\n",
    "\n",
    "- **의의**\n",
    "\n",
    "    백분위수를 사용하지 않는 이유: 극단적인 수익률의 영향을 감소시키는 것은 좋지만, 시장 변동성의 영향을 받지 않게 하는 점은 비관적으로 봤기 때문. 시장 변동성에 따라서 모델이 취해야 할 패턴도 다르다고 생각하기 때문에, 백분위수를 사용하지 않는 것으로 결정. => 이는 AB Test가 필요.\n",
    "    \n",
    "    랭킹값을 사용하지 않는 이유: 비트코인 하나만을 사용하기 때문에 포트폴리오 구축이 필요없기 때문\n"
   ]
  },
  {
   "cell_type": "markdown",
   "metadata": {},
   "source": [
    "### 사용할 특징\n",
    "\n",
    "\n",
    "12개의 기술적 지표 파라미터: 주식 가격, 거래량, RSI (상대 강도 지수), MACD (이동 평균 수렴 발산 지수; 3개), 볼린져밴드 (3개), ATR, Stochastic Oscillator (스토캐스틱 오실리에이터; 2개). 각 계산 공식은 `strategy.py` 에 기재되어 있음.\n",
    "\n",
    "- **의의**\n",
    "\n",
    "    우선 비트코인 분석이기 떄문에, 기업 재무 재표 관련 지표들을 사용하지 못함.\n",
    "\n",
    "    바이낸스 피셜 가장 많이 쓰이는 8개의 지표 중 6개를 사용 [1]."
   ]
  },
  {
   "cell_type": "markdown",
   "metadata": {},
   "source": [
    "### 예측 성능 비교\n",
    "\n",
    "MSE, MAE, IC, ICIR, AR, AV, SR, MDD. 각 예측 공식은 `metrices.py` 에 기재되어 있음."
   ]
  },
  {
   "cell_type": "markdown",
   "metadata": {},
   "source": [
    "### 매수 또는 매도 기준\n",
    "\n",
    "다음날 가격이 오르는 것으로 예측되면 매수. 다음날 가격이 내려가는 것으로 예측되면 매도."
   ]
  },
  {
   "cell_type": "markdown",
   "metadata": {},
   "source": [
    "## REFERENCES\n",
    "\n",
    "[1] https://www.binance.com/en/square/post/16592321478898"
   ]
  }
 ],
 "metadata": {
  "language_info": {
   "name": "python"
  }
 },
 "nbformat": 4,
 "nbformat_minor": 2
}
