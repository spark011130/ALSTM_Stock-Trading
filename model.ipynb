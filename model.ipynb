{
 "cells": [
  {
   "cell_type": "markdown",
   "metadata": {},
   "source": [
    "## SETTINGS"
   ]
  },
  {
   "cell_type": "markdown",
   "metadata": {},
   "source": [
    "### Dataset\n",
    "\n",
    "- **Data**\n",
    "\n",
    "    The dataset consists of Binance Bitcoin price data, extracted using the `ccxt` module.\n",
    "\n",
    "- **Dataset Split**\n",
    "\n",
    "    The data is split into training data (80%) and testing data (20%). A 90-day gap was kept between the training and testing datasets to perform the testing."
   ]
  },
  {
   "cell_type": "markdown",
   "metadata": {},
   "source": [
    "### Features Used\n",
    "\n",
    "- **Existing**\n",
    "\n",
    "    11 corporate financial indicators + 5 technical indicators.\n",
    "\n",
    "- **NEW**\n",
    "\n",
    "    12 technical indicator parameters: stock price, trading volume, RSI (Relative Strength Index), MACD (Moving Average Convergence Divergence; 3 types), Bollinger Bands (3 types), ATR, Stochastic Oscillator (2 types).\n",
    "\n",
    "    Using 6 out of the 8 most commonly used indicators according to Binance official sources [1].\n"
   ]
  },
  {
   "cell_type": "markdown",
   "metadata": {},
   "source": [
    "### Prediction Metrics\n",
    "\n",
    "`MSE, MAE, IC, ICIR`"
   ]
  },
  {
   "cell_type": "markdown",
   "metadata": {},
   "source": [
    "## REFERENCES\n",
    "\n",
    "[1] https://www.binance.com/en/square/post/16592321478898"
   ]
  }
 ],
 "metadata": {
  "language_info": {
   "name": "python"
  }
 },
 "nbformat": 4,
 "nbformat_minor": 2
}
